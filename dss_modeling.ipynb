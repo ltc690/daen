{
 "cells": [
  {
   "cell_type": "code",
   "execution_count": null,
   "id": "9d853da0",
   "metadata": {},
   "outputs": [],
   "source": [
    "import pandas as pd\n",
    "import numpy as np\n",
    "import matplotlib.pyplot as plt\n",
    "import seaborn as sns"
   ]
  },
  {
   "cell_type": "code",
   "execution_count": null,
   "id": "81ce0bf6",
   "metadata": {},
   "outputs": [],
   "source": [
    "data = pd.read_csv(\"/Users/omar.hassan/Documents/DAEN/DAEN 690/dss_cleanv2.csv\")"
   ]
  },
  {
   "cell_type": "code",
   "execution_count": null,
   "id": "732a6b79",
   "metadata": {},
   "outputs": [],
   "source": [
    "data.info()"
   ]
  },
  {
   "cell_type": "code",
   "execution_count": null,
   "id": "ca044ad4",
   "metadata": {},
   "outputs": [],
   "source": [
    "data['Y'] = data['Bucket']"
   ]
  },
  {
   "cell_type": "code",
   "execution_count": null,
   "id": "4b4350cc",
   "metadata": {
    "scrolled": true
   },
   "outputs": [],
   "source": [
    "data = data.drop(['loc_id', 'id', 'Month', 'Day', 'Year', 'Subsection',\n",
    "                  'StandardNumber', 'complaint_related', 'technical_assistance'], axis = 1)"
   ]
  },
  {
   "cell_type": "code",
   "execution_count": null,
   "id": "f4b4fdc3",
   "metadata": {},
   "outputs": [],
   "source": [
    "data['Y'] = data['Y'].str.replace('Administration of medications and related provisions','A')\n",
    "data['Y'] = data['Y'].str.replace('Medication management plan and reference materials','B')\n",
    "data['Y'] = data['Y'].str.replace('Medication review','C')\n",
    "data['Y'] = data['Y'].str.replace(\"Physician's or other prescriber's order\",'D')\n",
    "data['Y'] = data['Y'].str.replace(\"Qualifications and supervision of staff administering medications\",'E')\n",
    "data['Y'] = data['Y'].str.replace('Storage of medications','F')"
   ]
  },
  {
   "cell_type": "markdown",
   "id": "243661f4",
   "metadata": {},
   "source": [
    "## Data used for ML models.\n",
    "### 1) Re-run the lines below before running a new model"
   ]
  },
  {
   "cell_type": "code",
   "execution_count": null,
   "id": "d61039b5",
   "metadata": {},
   "outputs": [],
   "source": [
    "# Create a copy of dataframe with one hot encoding\n",
    "data2 = data"
   ]
  },
  {
   "cell_type": "code",
   "execution_count": null,
   "id": "31c0e6f0",
   "metadata": {},
   "outputs": [],
   "source": [
    "data2.fillna('', inplace=True)"
   ]
  },
  {
   "cell_type": "code",
   "execution_count": null,
   "id": "03c62546",
   "metadata": {},
   "outputs": [],
   "source": [
    "# Remove column name 'A'\n",
    "data2 = data2.drop(['Bucket'], axis=1)"
   ]
  },
  {
   "cell_type": "code",
   "execution_count": null,
   "id": "3b0068e8",
   "metadata": {},
   "outputs": [],
   "source": [
    "data2.info()"
   ]
  },
  {
   "cell_type": "code",
   "execution_count": null,
   "id": "e9826e51",
   "metadata": {},
   "outputs": [],
   "source": [
    "# One Hot Encoding\n",
    "# ML models cannot take categorical data\n",
    "from sklearn.preprocessing import LabelEncoder\n",
    "\n",
    "# integer encode\n",
    "label_encoder = LabelEncoder()\n",
    "data2.iloc[:,0] = label_encoder.fit_transform(data2.iloc[:,0])\n",
    "data2.iloc[:,2] = label_encoder.fit_transform(data2.iloc[:,2])\n",
    "data2.iloc[:,3] = label_encoder.fit_transform(data2.iloc[:,3])\n",
    "data2.iloc[:,5] = label_encoder.fit_transform(data2.iloc[:,5])\n",
    "data2.iloc[:,6] = label_encoder.fit_transform(data2.iloc[:,6])\n",
    "data2.iloc[:,7] = label_encoder.fit_transform(data2.iloc[:,7])\n",
    "data2.iloc[:,8] = label_encoder.fit_transform(data2.iloc[:,8])\n",
    "data2.iloc[:,9] = label_encoder.fit_transform(data2.iloc[:,9])\n",
    "data2.iloc[:,10] = label_encoder.fit_transform(data2.iloc[:,10])\n",
    "data2.iloc[:,11] = label_encoder.fit_transform(data2.iloc[:,11])\n",
    "data2.iloc[:,12] = label_encoder.fit_transform(data2.iloc[:,12])\n",
    "data2.iloc[:,13] = label_encoder.fit_transform(data2.iloc[:,13])\n",
    "data2.head()"
   ]
  },
  {
   "cell_type": "markdown",
   "id": "1a033511",
   "metadata": {},
   "source": [
    "## STOP HERE IF RUNNING A NEW MODEL BELOW\n",
    "### 2) Look out for additional notes on which lines to run "
   ]
  },
  {
   "cell_type": "code",
   "execution_count": null,
   "id": "d4d22e2e",
   "metadata": {},
   "outputs": [],
   "source": [
    "X = data2.iloc[:,0:13]  #independent columns\n",
    "y = data2.iloc[:,-1]    #target column"
   ]
  },
  {
   "cell_type": "code",
   "execution_count": null,
   "id": "fbaa2a22",
   "metadata": {},
   "outputs": [],
   "source": [
    "# Feature Selection: Univariate Selection\n",
    "from sklearn.feature_selection import SelectKBest\n",
    "from sklearn.feature_selection import chi2\n",
    "\n",
    "#apply SelectKBest class to extract top 10 best features\n",
    "bestfeatures = SelectKBest(score_func=chi2, k=10)\n",
    "fit = bestfeatures.fit(X,y)\n",
    "dfscores = pd.DataFrame(fit.scores_)\n",
    "dfcolumns = pd.DataFrame(X.columns)\n",
    "\n",
    "#concat two dataframes for better visualization \n",
    "featureScores = pd.concat([dfcolumns,dfscores],axis=1)\n",
    "featureScores.columns = ['Specs','Score']  #naming the dataframe columns\n",
    "print(featureScores.nlargest(10,'Score'))  #print 10 best features"
   ]
  },
  {
   "cell_type": "code",
   "execution_count": null,
   "id": "c32c9472",
   "metadata": {},
   "outputs": [],
   "source": [
    "# Feature Selection: Feature Importance\n",
    "from sklearn.ensemble import ExtraTreesClassifier\n",
    "model = ExtraTreesClassifier()\n",
    "model.fit(X,y)\n",
    "print(model.feature_importances_) #use inbuilt class feature_importances of tree based classifiers\n",
    "\n",
    "#plot graph of feature importances for better visualization\n",
    "feat_importances = pd.Series(model.feature_importances_, index=X.columns)\n",
    "feat_importances.nlargest(10).plot(kind='barh')\n",
    "plt.show()"
   ]
  },
  {
   "cell_type": "markdown",
   "id": "348a2433",
   "metadata": {},
   "source": [
    "## 3) Run this line below"
   ]
  },
  {
   "cell_type": "code",
   "execution_count": null,
   "id": "6e57c015",
   "metadata": {},
   "outputs": [],
   "source": [
    "X = data2.iloc[:,[12,11,10,4,1,0,7,2,5,8]]  #independent columns\n",
    "y = data2.iloc[:,-1]                        #target column"
   ]
  },
  {
   "cell_type": "code",
   "execution_count": null,
   "id": "605faaed",
   "metadata": {},
   "outputs": [],
   "source": [
    "# Check for highly correlated variables\n",
    "corr = X.corr()\n",
    "\n",
    "corr.style.background_gradient(cmap='coolwarm')"
   ]
  },
  {
   "cell_type": "code",
   "execution_count": null,
   "id": "195f03aa",
   "metadata": {},
   "outputs": [],
   "source": [
    "# import train_test_split function\n",
    "from sklearn.model_selection import train_test_split\n",
    "\n",
    "# For evaluating models\n",
    "from sklearn.metrics import classification_report, confusion_matrix, accuracy_score"
   ]
  },
  {
   "cell_type": "markdown",
   "id": "174b7731",
   "metadata": {},
   "source": [
    "## 4) Run this line below"
   ]
  },
  {
   "cell_type": "code",
   "execution_count": null,
   "id": "79c1ec00",
   "metadata": {},
   "outputs": [],
   "source": [
    "# input and outputs\n",
    "inputs = X\n",
    "outputs = y\n",
    "\n",
    "# split dataset into training set and test set\n",
    "X_train, X_test, y_train, y_test = train_test_split(inputs, outputs, test_size=0.3, random_state=1)"
   ]
  },
  {
   "cell_type": "code",
   "execution_count": null,
   "id": "29166f53",
   "metadata": {},
   "outputs": [],
   "source": [
    "# import Gaussian Naive Bayes model\n",
    "from sklearn.naive_bayes import GaussianNB\n",
    "\n",
    "# create a Gaussian Classifier\n",
    "classifer = GaussianNB()\n",
    "\n",
    "# train the model using the training sets\n",
    "classifer.fit(X_train, y_train)\n",
    "\n",
    "# predict the response for test dataset\n",
    "y_pred = classifer.predict(X_test)"
   ]
  },
  {
   "cell_type": "code",
   "execution_count": null,
   "id": "319e4edf",
   "metadata": {},
   "outputs": [],
   "source": [
    "nb_accuracy = accuracy_score(y_test,y_pred)\n",
    "print('Accuracy:',nb_accuracy)\n",
    "\n",
    "# passing actual and predicted values\n",
    "nb_cm = confusion_matrix(y_test, y_pred)\n",
    "\n",
    "# true Write data values in each cell of the matrix\n",
    "plt.figure(figsize = (15,8))\n",
    "sns.heatmap(nb_cm, annot=True, fmt='.0f')\n",
    "plt.savefig('confusion.png')\n",
    "\n",
    "nb_cr = classification_report(y_test, y_pred)\n",
    "print('Classification Report:')\n",
    "print (nb_cr)"
   ]
  },
  {
   "cell_type": "markdown",
   "id": "f44892a8",
   "metadata": {},
   "source": [
    "# Re-run lines from earlier before running the KNN model below."
   ]
  },
  {
   "cell_type": "code",
   "execution_count": null,
   "id": "4d919e14",
   "metadata": {},
   "outputs": [],
   "source": [
    "# KNN\n",
    "from sklearn.neighbors import KNeighborsClassifier\n",
    "knn_clf=KNeighborsClassifier()\n",
    "knn_clf.fit(X_train,y_train)\n",
    "ypred=knn_clf.predict(X_test) #These are the predicted output values"
   ]
  },
  {
   "cell_type": "code",
   "execution_count": null,
   "id": "b6bac160",
   "metadata": {},
   "outputs": [],
   "source": [
    "knn_accuracy = accuracy_score(y_test,ypred)\n",
    "print('Accuracy:',knn_accuracy)\n",
    "\n",
    "# passing actual and predicted values\n",
    "knn_cm = confusion_matrix(y_test, y_pred)\n",
    "\n",
    "# true Write data values in each cell of the matrix\n",
    "plt.figure(figsize = (15,8))\n",
    "sns.heatmap(knn_cm, annot=True, fmt='.0f')\n",
    "plt.savefig('confusion.png')\n",
    "\n",
    "knn_cr = classification_report(y_test, ypred)\n",
    "print('Classification Report:')\n",
    "print (knn_cr)"
   ]
  }
 ],
 "metadata": {
  "kernelspec": {
   "display_name": "Python 3 (ipykernel)",
   "language": "python",
   "name": "python3"
  },
  "language_info": {
   "codemirror_mode": {
    "name": "ipython",
    "version": 3
   },
   "file_extension": ".py",
   "mimetype": "text/x-python",
   "name": "python",
   "nbconvert_exporter": "python",
   "pygments_lexer": "ipython3",
   "version": "3.9.12"
  }
 },
 "nbformat": 4,
 "nbformat_minor": 5
}
